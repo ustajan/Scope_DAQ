{
 "cells": [
  {
   "cell_type": "markdown",
   "metadata": {},
   "source": [
    "## Author:  Areg Danagoulian (aregjan@mit.edu), with initial code from Nolan Kowitt\n",
    "\n",
    "**License: see LICENSE**\n",
    "\n",
    "The code below connects to a Siglent scope, and reads data from it. It has been tested with SIGLENT SDS 1202X-E.\n",
    "\n",
    "In all examples below we use Channel1 of the scope -- C1 for short. You can always change it to C2.\n",
    "\n",
    "* Documentation: https://siglentna.com/wp-content/uploads/dlm_uploads/2017/10/ProgrammingGuide_forSDS-1-1.pdf\n",
    "\n",
    "Requirements:\n",
    "\n",
    "* pip install pyvisa\n",
    "* pip install pyvisa-py\n",
    "* pip install zeroconf #slow!\n",
    "* pip install typing-extensions --upgrade\n",
    "* go to https://www.ni.com/en/support/downloads/drivers/download/unpackaged.ni-visa.487529.html and install the drivers"
   ]
  },
  {
   "cell_type": "code",
   "execution_count": 1,
   "metadata": {},
   "outputs": [],
   "source": [
    "import pyvisa\n",
    "import time\n",
    "import numpy as np\n",
    "import matplotlib.pyplot as plt\n",
    "import struct\n",
    "import re\n",
    "#from tqdm.notebook import tqdm\n",
    "from scipy.optimize import curve_fit"
   ]
  },
  {
   "cell_type": "code",
   "execution_count": 2,
   "metadata": {},
   "outputs": [],
   "source": [
    "def get_scope_settings(scope):\n",
    "    div=float(scope.query('C1:VDIV?')[8:16]) #volts per division -- this is not safe, regexp would be better\n",
    "    ofst=float(scope.query('C1:OFST?')[8:16]) #offset in volts\n",
    "\n",
    "    trdl_query=scope.query('TRDL?') #centering of the horizontal axis, time\n",
    "    trdl=float(re.search(r\"TRDL(.*)S\", trdl_query).group(1)) #first do a regex, then pick the first match. Convert to float\n",
    "\n",
    "    #print(scope.query('TDIV?')) #times per division\n",
    "    tdiv_query=scope.query('TDIV?') #times per division\n",
    "    tdiv=float(re.search(r\"TDIV(.*)S\", tdiv_query).group(1)) #first do a regex, then pick the first match. Convert to float\n",
    "\n",
    "\n",
    "    #print(scope.query('SARA?')) #sampling rate\n",
    "    sara_query=scope.query('SARA?') #sampling rate\n",
    "    sara=float(re.search(r\"SARA(.*)S\", sara_query).group(1)) #first do a regex, then pick the first match. Convert to float\n",
    "    return div,ofst,trdl,tdiv,sara"
   ]
  },
  {
   "cell_type": "code",
   "execution_count": 20,
   "metadata": {},
   "outputs": [],
   "source": [
    "def acquire_data(scope,time_measurement,baseline_length, positive_polarity): #need the scope handler, time (in sec), as well as the polarity of the expected pulse\n",
    "#Here we take the pulses and integrate them (for many detectors the integral of the pulse is proportional to the deposited energy)\n",
    "#.   scope:  the handler for the scope object\n",
    "#.   time_measurement:  the measurement time, in SECONDS\n",
    "#    baseline_length:  the length of baseline, in seconds.  It's computed from the beginning of the waveform\n",
    "#    positive_polarity:  logical. Is your sensor outputing positive pulse?  Then YES.  If it's negative then NO.\n",
    "\n",
    "    print(\"Acquiring data for %d seconds.\" % time_measurement)\n",
    "    t_start = time.time() #time start\n",
    "    data=np.empty(0) #this is the array that we will fill\n",
    "    #VM = float(re.search(r\"C1:PAVA? AMPL,(.*)V\", scope.query('C1:PAVA? AMPL')).group(1))\n",
    "    #print(VM)\n",
    "    scope.baud_rate = 115200\n",
    "    div,ofst,trdl,tdiv,sara = get_scope_settings(scope)\n",
    "    cymo_total=0\n",
    "    VM=0\n",
    "    while(time.time()-t_start<=time_measurement): #the main loop\n",
    "        scope.write('C1:WF? DAT2') #three options:  DAT2(just data); DESC(descriptor); ALL\n",
    "        raw_data =scope.read_raw()\n",
    "        samples=int(raw_data[13:22].decode(\"utf-8\")) #this provides the descriptor, with the number of samples at the end\n",
    "        integer_array = np.array([int(byte) for byte in raw_data[22:22+samples]])\n",
    "        #now clean up the problem of >127, as the range in y starts from 0, and goes to the top of the screen(127)\n",
    "        #then cycles from the bottom of the screen to the origin\n",
    "        integer_array[integer_array>127]=integer_array[integer_array>127]-255\n",
    "        v = (integer_array * div/25) - ofst #claculate the actual voltages\n",
    "        time_s=np.arange(samples)\n",
    "        time_s=trdl-(7.0*tdiv)+time_s/sara \n",
    "\n",
    "        v_baseline = np.sum(v[time_s<trdl-(7.*tdiv)+baseline_length])/len(v[time_s<trdl-(7.*tdiv)+baseline_length])\n",
    "\n",
    "        if(positive_polarity): #positive pulse\n",
    "            v_sum=np.sum(v-v_baseline)\n",
    "        else:\n",
    "            v_sum=np.sum(v_baseline-v)\n",
    "\n",
    "        if(v_sum!=VM):\n",
    "            data=np.append(data,v_sum)\n",
    "            VM=v_sum\n",
    "\n",
    "#Now let's try to determine the dead time\n",
    "        if((time.time()-t_start)%2<=0.05): #every two seconds read the cymometer.  This is probably wrong!!\n",
    "            cymo_query=scope.query('CYMOMETER?') #sampling rate\n",
    "#            print(cymo_query)\n",
    "            cymo=float(re.search(r\"CYMT (.*)Hz\", cymo_query).group(1)) #first do a regex, then pick the first match. Convert to float\n",
    "            cymo_total+=cymo*2\n",
    "    print(\"Acquired %d waveforms\\n\" % data.size)\n",
    "    print(\"Total triggers: %d\" % cymo_total)\n",
    "    live_time = float(time_measurement)*float(data.size)/float(cymo_total)\n",
    "    live_time\n",
    "    data.size\n",
    "    cymo_total\n",
    "    time_measurement\n",
    "    print(\"Effective live time: %f seconds\" % live_time)\n",
    "    return data"
   ]
  },
  {
   "cell_type": "markdown",
   "metadata": {},
   "source": [
    "### Let's start by checking for resources.  List 'em. "
   ]
  },
  {
   "cell_type": "code",
   "execution_count": 12,
   "metadata": {},
   "outputs": [
    {
     "data": {
      "text/plain": [
       "('ASRL1::INSTR', 'ASRL2::INSTR', 'USB0::0xF4ED::0xEE3A::SDS1EEFD7R4087::INSTR')"
      ]
     },
     "execution_count": 12,
     "metadata": {},
     "output_type": "execute_result"
    }
   ],
   "source": [
    "rm = pyvisa.ResourceManager()\n",
    "rm.list_resources() #this will show a number of devices, which will hopefully include something like the next line"
   ]
  },
  {
   "cell_type": "code",
   "execution_count": 13,
   "metadata": {},
   "outputs": [
    {
     "name": "stdout",
     "output_type": "stream",
     "text": [
      "Siglent Technologies,SDS1202X-E,SDS1EEFD7R4087,1.3.27\n",
      "\n"
     ]
    }
   ],
   "source": [
    "#scope = rm.open_resource('USB0::0x1AB1::0x0588::DS1ET171304397::INSTR') # you typically get an identifyer like this\n",
    "if(len(rm.list_resources())==3):\n",
    "    scope = rm.open_resource(rm.list_resources()[2]) #update the identifier\n",
    "    if(scope.open):\n",
    "        print(scope.query(\"*IDN?\")) #should return the brand and model\n",
    "    else:\n",
    "        print(\"No connection to a scope.\")\n",
    "else:\n",
    "    print(\"Couldn't identify a scope. Check for connection, and then go to the above cell.\")\n",
    "    \n"
   ]
  },
  {
   "cell_type": "markdown",
   "metadata": {},
   "source": [
    "### Let's first get some interesting parameters\n"
   ]
  },
  {
   "cell_type": "code",
   "execution_count": 14,
   "metadata": {},
   "outputs": [
    {
     "name": "stdout",
     "output_type": "stream",
     "text": [
      "C1:PAVA PKPK,6.320000E+00V\n",
      "\n",
      "C1:PAVA MAX,4.640000E+00V\n",
      "\n",
      "C1:PAVA MIN,-1.680000E+00V\n",
      "\n",
      "C1:PAVA AMPL,4.480000E+00V\n",
      "\n",
      "CYMT 1.01E+01Hz\n",
      "\n",
      "TRDL -0.00E+00S\n",
      "\n",
      "TDIV 1.00E-07S\n",
      "\n",
      "SARA 1.00E+09Sa/s\n",
      "\n"
     ]
    }
   ],
   "source": [
    "print(scope.query('C1:PAVA? PKPK')) #peak to peak\n",
    "print(scope.query('C1:PAVA? MAX')) #max\n",
    "print(scope.query('C1:PAVA? MIN')) #min\n",
    "print(scope.query('C1:PAVA? AMPL'))#negative overshoot\n",
    "#print(scope.query('c1:PAVA? ALL')) #EVERYTHING\n",
    "print(scope.query('CYMOMETER?')) # this is VERY useful -- will allow calculation of dead times\n",
    "print(scope.query('TRDL?')) #centering of the horizontal axis, time\n",
    "print(scope.query('TDIV?')) #times per division\n",
    "print(scope.query('SARA?')) #sampling rate\n"
   ]
  },
  {
   "cell_type": "markdown",
   "metadata": {},
   "source": [
    "For documentation on waveform transfer, see p. 141 in \n",
    "https://siglentna.com/wp-content/uploads/dlm_uploads/2017/10/ProgrammingGuide_forSDS-1-1.pdf"
   ]
  },
  {
   "cell_type": "markdown",
   "metadata": {},
   "source": [
    "### Now let's transfer and plot actual waveforms!"
   ]
  },
  {
   "cell_type": "code",
   "execution_count": 18,
   "metadata": {},
   "outputs": [
    {
     "name": "stdout",
     "output_type": "stream",
     "text": [
      "9.436249732971192e-05\n"
     ]
    },
    {
     "data": {
      "image/png": "[encoded data removed]",
      "text/plain": [
       "<Figure size 864x576 with 1 Axes>"
      ]
     },
     "metadata": {
      "needs_background": "light"
     },
     "output_type": "display_data"
    }
   ],
   "source": [
    "verbose=False\n",
    "\n",
    "div,ofst,trdl,tdiv,sara = get_scope_settings(scope)\n",
    "if verbose:\n",
    "    print(ofst)\n",
    "    print(trdl)\n",
    "    print(tdiv)\n",
    "    print(sara)\n",
    "\n",
    "scope.baud_rate = 115200\n",
    "time0=time.time()\n",
    "for i in range(1):\n",
    "    scope.write('C1:WF? DAT2') #three options:  DAT2(just data); DESC(descriptor); ALL\n",
    "    raw_data =scope.read_raw()\n",
    "print((time.time()-time0)/400.)\n",
    "\n",
    "\n",
    "\n",
    "\n",
    "samples=int(raw_data[13:22].decode(\"utf-8\")) #this provides the descriptor, with the number of samples at the end\n",
    "integer_array = np.array([int(byte) for byte in raw_data[22:22+samples]])\n",
    "#now clean up the problem of >127, as the range in y starts from 0, and goes to the top of the screen(127)\n",
    "#then cycles from the bottom of the screen to the origin\n",
    "integer_array[integer_array>127]=integer_array[integer_array>127]-255\n",
    "\n",
    "v = (integer_array * div/25) - ofst #claculate the actual voltages\n",
    "\n",
    "\n",
    "#now make an array of samples' time\n",
    "time_s=np.arange(samples)\n",
    "time_s=trdl-(7.0*tdiv)+time_s/sara \n",
    "\n",
    "if verbose:\n",
    "    print(samples)\n",
    "    print(integer_array)\n",
    "    print(v)\n",
    "    print(time_s)\n",
    "\n",
    "fig, ax = plt.subplots(figsize=(12, 8))  \n",
    "ax.plot(time_s,v)\n",
    "ax.set_xlabel('time [s]')\n",
    "ax.set_ylabel('Voltage [V]')\n",
    "ax.set_ylim(-4*div-ofst,4*div-ofst)\n",
    "ax.set_xlim(-7*tdiv+trdl,7*tdiv+trdl)\n",
    "ax.grid(True,which='major', linestyle=':', linewidth='0.5', color='black')"
   ]
  },
  {
   "cell_type": "code",
   "execution_count": 21,
   "metadata": {
    "scrolled": false
   },
   "outputs": [
    {
     "name": "stdout",
     "output_type": "stream",
     "text": [
      "Acquiring data for 5 seconds.\n",
      "Acquired 41 waveforms\n",
      "\n",
      "Total triggers: 85\n",
      "Effective live time: 2.406103 seconds\n"
     ]
    },
    {
     "data": {
      "text/plain": [
       "Text(0.5, 0, 'Integral [V*samples]')"
      ]
     },
     "execution_count": 21,
     "metadata": {},
     "output_type": "execute_result"
    },
    {
     "data": {
      "image/png": "[encoded data removed]",
      "text/plain": [
       "<Figure size 432x288 with 1 Axes>"
      ]
     },
     "metadata": {
      "needs_background": "light"
     },
     "output_type": "display_data"
    }
   ],
   "source": [
    "data=acquire_data(scope,5,50e-9,False) #first argument is the scope handler. Next is time.  False denotes negative polarity.  The third argument denotes the time in s for the baseline estimation\n",
    "h = plt.hist(data,bins=50) #let's histogram data\n",
    "plt.xlabel(\"Integral [V*samples]\")"
   ]
  },
  {
   "cell_type": "markdown",
   "metadata": {},
   "source": [
    "## You can ignore the rest.  It's code for histogramming and fitting spectral data from a NaI detector"
   ]
  },
  {
   "cell_type": "code",
   "execution_count": 111,
   "metadata": {},
   "outputs": [],
   "source": [
    "def gaussian_plusline(x,mu,sig,A,alpha,beta):\n",
    "    return alpha+x*beta+A*np.exp(-(x-mu)**2/2/sig**2)\n",
    "def gaussian(x,mu,sig,A):\n",
    "    return A*np.exp(-(x-mu)**2/2/sig**2)"
   ]
  },
  {
   "cell_type": "code",
   "execution_count": 115,
   "metadata": {},
   "outputs": [
    {
     "name": "stdout",
     "output_type": "stream",
     "text": [
      "0.0056714291298985 0.006776254649038748\n",
      "3.9133824537287 78.66138096948848\n"
     ]
    },
    {
     "data": {
      "image/png": "[encoded data removed]",
      "text/plain": [
       "<Figure size 432x288 with 1 Axes>"
      ]
     },
     "metadata": {
      "needs_background": "light"
     },
     "output_type": "display_data"
    }
   ],
   "source": [
    "ys,xs = np.histogram(data,bins=200,range=(0,150))\n",
    "\n",
    "xs = xs[1:]-xs[1]/2\n",
    "\n",
    "mask = np.logical_and(xs>60, xs<100)\n",
    "\n",
    "par,cov = curve_fit(gaussian_plusline,xs[mask],ys[mask],sigma=np.sqrt(ys[mask]+1),p0 = [80,3,50,0,0])\n",
    "h = plt.hist(data,bins=200,range=(0,150)) #let's histogram data\n",
    "\n",
    "xstoplt = np.linspace(60,100)\n",
    "ystoplt = gaussian_plusline(xstoplt,*par)\n",
    "\n",
    "plt.plot(xstoplt,ystoplt)\n",
    "plt.xlabel(\"Integral [V*samples]\")\n",
    "plt.ylabel(\"Counts\")\n",
    "plt.savefig('my_plot.png') \n",
    "\n",
    "print(cov[1,1],cov[0,0])\n",
    "print(par[1],par[0])"
   ]
  },
  {
   "cell_type": "code",
   "execution_count": 113,
   "metadata": {},
   "outputs": [
    {
     "name": "stdout",
     "output_type": "stream",
     "text": [
      "0.03554894294822303 0.08280285242696021\n",
      "4.76898426939132 78.01363914634011\n"
     ]
    },
    {
     "data": {
      "image/png": "[encoded data removed]",
      "text/plain": [
       "<Figure size 432x288 with 1 Axes>"
      ]
     },
     "metadata": {
      "needs_background": "light"
     },
     "output_type": "display_data"
    }
   ],
   "source": [
    "#same as above, but just a gaussian fit\n",
    "ys,xs = np.histogram(data,bins=300,range=(0,150))\n",
    "\n",
    "xs = xs[1:]-xs[1]/2\n",
    "\n",
    "mask = np.logical_and(xs>75, xs<100)\n",
    "\n",
    "par,cov = curve_fit(gaussian,xs[mask],ys[mask],sigma=np.sqrt(ys[mask]+1),p0 = [80,5,400])\n",
    "h = plt.hist(data,bins=300,range=(0,150)) #let's histogram data\n",
    "\n",
    "xstoplt = np.linspace(75,100)\n",
    "ystoplt = gaussian(xstoplt,*par)\n",
    "\n",
    "plt.plot(xstoplt,ystoplt)\n",
    "\n",
    "\n",
    "print(cov[1,1],cov[0,0])\n",
    "print(par[1],par[0])"
   ]
  }
 ],
 "metadata": {
  "kernelspec": {
   "display_name": "Python 3",
   "language": "python",
   "name": "python3"
  },
  "language_info": {
   "codemirror_mode": {
    "name": "ipython",
    "version": 3
   },
   "file_extension": ".py",
   "mimetype": "text/x-python",
   "name": "python",
   "nbconvert_exporter": "python",
   "pygments_lexer": "ipython3",
   "version": "3.8.5"
  }
 },
 "nbformat": 4,
 "nbformat_minor": 5
}
